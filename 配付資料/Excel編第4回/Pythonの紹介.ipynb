{
  "nbformat": 4,
  "nbformat_minor": 0,
  "metadata": {
    "colab": {
      "provenance": []
    },
    "kernelspec": {
      "name": "python3",
      "display_name": "Python 3"
    },
    "language_info": {
      "name": "python"
    }
  },
  "cells": [
    {
      "cell_type": "markdown",
      "source": [
        "# Pythonの紹介\n",
        "\n",
        "## Pythonとは\n",
        "[Python](https://www.python.org/)はインタープリタ型高水準汎用プログラミング言語です。プログラムの読みやすさを重視して、\n",
        "学習コストや再利用のしやすさで人気を博しています。現代的な機能（高水準）を備え、\n",
        "さまざまなソフトウェア開発に使用できる汎用性を備えています。\n",
        "特にディープラーニングといったAI（人工知能）の開発にPythonは人気があります。\n",
        "Pythonに標準で備わっていない機能は外部ライブラリとしてさまざまなものが用意されています。\n",
        "\n",
        "### PEP8\n",
        "PEP8はPythonのスタイルガイドです。スタイルガイドとは読みやすいプログラムの為のルールです。\n",
        "主に以下の様なものがあります。\n",
        "- 変数・関数名は小文字、定数名は大文字\n",
        "- インデントはスペース4つ\n",
        "- 演算記号の前後、カンマの後にスペース\n",
        "- 関数の引数の中のイコールの前後はスペース不要\n",
        "- importは最初にまとめ、プログラム本体と空行でわける"
      ],
      "metadata": {
        "id": "eWWockmUN_dl"
      }
    },
    {
      "cell_type": "markdown",
      "source": [
        "## Google Clabratory\n",
        "[Google Clabratory](https://colab.research.google.com/)はPythonをWeb上でインタラクティブに利用出来るようにした[Jupyter Notebook](https://jupyter.org/)のGoogle版です。\n",
        "Googleのアカウントがあれば誰でも基本的に無料で利用できます。\n",
        "Pythonのプログラムに加え、Markdownテキスト、図、数式等を含めることができます。"
      ],
      "metadata": {
        "id": "PwKfl6coEYA2"
      }
    },
    {
      "cell_type": "markdown",
      "source": [
        "## Markdown\n",
        "Markdownとはタグと呼ばれる簡単な記号で文書の書式を指示する仕組みです。\n",
        "\n",
        "幾つかの例を示します。\n",
        "\n",
        "```Markdown\n",
        "# 見出し\n",
        "## #の数を増やすと小見出し\n",
        "###### 見出しの#は最大6個まで（多分）\n",
        "段落を分けるには\n",
        "\n",
        "空行をいれます。\n",
        "\n",
        "ただ改行しただけでは\n",
        "スペースが入るだけです。\n",
        "$$ A=\\int^{b}_{a}f(x)dx $$ 数式\n",
        "- 箇条書き1\n",
        "    - 箇条書き2\n",
        "```\n",
        "グレーの背景の部分の結果は次のようになります。\n",
        "\n",
        "---\n",
        "# 見出し\n",
        "## #の数を増やすと小見出し\n",
        "###### 最大#6個まで（多分）\n",
        "段落を分けるには\n",
        "\n",
        "空行をいれます。\n",
        "ただ改行しただけでは\n",
        "スペースが入るだけです。\n",
        "$$ A=\\int^{b}_{a}f(x)dx $$\n",
        "- 箇条書き1\n",
        "    - 箇条書き2\n",
        "---\n",
        "\n",
        "その他のタグはこのガイドのソースを参照するか検索してください。\n",
        "Markdownには方言のような幾つかのバリエーションがありますので、\n",
        "Colabで使えるタグを検索する場合は検索ワードに「colab」を含めることをお勧めします。\n",
        "\n"
      ],
      "metadata": {
        "id": "HtZIRD8O_sXR"
      }
    },
    {
      "cell_type": "markdown",
      "source": [
        "## やってみよう"
      ],
      "metadata": {
        "id": "2QTXP6SuIijf"
      }
    },
    {
      "cell_type": "markdown",
      "source": [
        "### Markdownテキスト\n",
        "この文章をクリックして、メニューの下の「+テキスト」をクリックします。\n",
        "\n",
        "適当な文章をMarkdownで作成して見ましょう。"
      ],
      "metadata": {
        "id": "6ZD3vp3bG6dQ"
      }
    },
    {
      "cell_type": "markdown",
      "source": [
        "### Python\n",
        "同様にこの文章をクリックして、メニューの下の「＋コード」をクリックしてPythonプログラミングを体験しましょう。\n",
        "\n",
        "#### 注意点\n",
        "- プログラムは半角の英数字・記号で記述します。\n",
        "- 行頭にスペースは入力しないでください。\n",
        "    - エラー（間違い）になります。\n",
        "\n",
        "### はじめてのPython\n",
        "- 適当な数式、1+2などを入力して、左側の実行ボタンをクリックしてください。\n",
        "\n",
        "**注) 実行ボタンを始めにクリックするとGoogleのPythonプログラムを実行する仮想マシンに接続して処理が行われます。\n",
        "仮想マシンは時間が経ったり、Notebookを閉じると切断されます。切断されるとファイルやプログラムの状態が失われます。**\n",
        "\n",
        "### Hello, World!\n",
        "- 文字列は「'」か「\"」で囲みます。\n",
        "- 画面に文字を表示する関数（命令）はprintです。\n",
        "    - print('Hello, World!')と記述して実行すると画面にカッコ内の文字列が表示されます。\n",
        "    - カッコ内に記述する内容を引数といいます。複数指定する場合は「,」（カンマ）で区切ります。\n",
        "- #より後は無視されます。\n",
        "    - プログラム中に注記などを書くことができます。（コメント）\n",
        "- 文字列やコメントには日本語も使えます。\n",
        "\n",
        "### 変数\n",
        "- 数値や文字列などのデータは後で参照するために保存することが出来ます。\n",
        "- 名前の付いた入れ物を用意して以下のように記述します。\n",
        "\n",
        "```Python\n",
        "some_data = 1 + 2                # 1+2の計算結果をsome_dataに保存\n",
        "some_string = 'おはようございます。`  # 「おはようございます。」という文字列をsome_stringに保存\n",
        "print(some_data)                   # some_dataに保存された内容を画面に表示\n",
        "```\n"
      ],
      "metadata": {
        "id": "M_shgOwIImsB"
      }
    },
    {
      "cell_type": "markdown",
      "source": [
        "## 具体的な例\n",
        "時間正規化（リサンプル）の例です。\n",
        "### データの準備\n",
        "入力データは事前に解析対象範囲を切り出したデータを使用します。\n",
        "\n",
        "画面左側の上部にあるフォルダのアイコンクリックして、ファイル一覧を表示し、空いている大きなスペースにnormal.csvをドラッグアンドドロップします。\n",
        "\n",
        "### コードの説明について\n",
        "簡単な説明はコード中にコメントとして記入しています。少し長くなる説明はコードの後に掲載しています。\n",
        "また、本来は必要無いprint文をいれて状況を判りやすくしています。"
      ],
      "metadata": {
        "id": "yMoYtciGLT-t"
      }
    },
    {
      "cell_type": "markdown",
      "source": [
        "## ライブラリ\n",
        "Python本体だけでは実現できない機能を使用するためにはライブラリを使用します。\n",
        "このプログラムで使用するライブラリは以下の通りです。\n",
        "\n",
        "### [numpy](https://numpy.org/)\n",
        "行列演算を行うためのライブラリです。\n",
        "Pythonで数値計算を行う際のデファクトスタンダードです。\n",
        "\n",
        "### [scipy](https://scipy.org/)\n",
        "Pythonで科学計算を行うライブラリです。\n",
        "このプログラムでは正規化（リサンプル）をこのライブラリの機能で実現します。\n",
        "リサンプルの他にも積分や周波数解析などが出来ます。\n",
        "\n",
        "### [bokeh](https://bokeh.org/)\n",
        "グラフを作成するライブラリです。\n",
        "Pythonのグラフ作成は[Matplotlib](https://matplotlib.org/)というのがデファクトスタンダードですが、\n",
        "bokehはインタラクティブなグラフを作成できます。\n",
        "拡大縮小などグラフ上で行うことができるので関は好んで使っています。"
      ],
      "metadata": {
        "id": "4v8-oO5DEdP9"
      }
    },
    {
      "cell_type": "code",
      "execution_count": null,
      "metadata": {
        "id": "AYPFzSy1N0x3"
      },
      "outputs": [],
      "source": [
        "#@title 初期設定\n",
        "import numpy as np\n",
        "from scipy import signal\n",
        "from bokeh.io import output_notebook, show\n",
        "from bokeh.plotting import figure\n",
        "\n",
        "\n",
        "#@markdown サンプリング周波数 [Hz]\n",
        "FS = 1000 #@param {type:\"number\"}\n",
        "\n",
        "print('ready') # 実行が終わったことを知らせる\n",
        "\n",
        "#@markdown コードブロックは隠すことも出来ます。タイトル部分をダブルクリックしてみてください。"
      ]
    },
    {
      "cell_type": "markdown",
      "source": [
        "### import文\n",
        "import文でライブラリを読み込みます。\n",
        "\n",
        "`import ライブラリ名`でライブラリ全体を読み込みます。`import ライブラリ名 as 別名`のようにすると、\n",
        "ライブラリ名に別名をつけ、コード中では別名でライブラリを記述します。\n",
        "numpyのnpのように慣習的に決まった別名を使う場合があります。\n",
        "他者が読みやすいように慣習に従う方が良いでしょう。\n",
        "\n",
        "`from ライブラリ名 import モジュール名`のようにすると、ライブラリ内の一部の機能だけを読み込むことができます。\n",
        "Pythonのライブラリは通常のファイルシステムと同じような考え方を採用しています。フォルダに相当するものを\n",
        "パッケージ、ファイルに相当するものをモジュールと呼んでいます。モジュールには複数の関数やクラスが定義されています。\n",
        "このように、ツリー構造になっているので、ライブラリの奥深くの一部の機能を読み込むには\n",
        "`from ライブラリ名.モジュール名 import クラス名`のように、ツリー構造を「.」（ピリオド）で繋いで表します。\n",
        "\n",
        "### コード中のフォームとMarkdown\n",
        "コードの中に記述するMarkdownが幾つかあります。\n",
        "\n",
        "- #@title コードブロックにタイトルを表示します。\n",
        "- #@markdown コード中にMarkdownを記述し、表示します。\n",
        "- #@param {type:\"number\"} 数値の入力フォームを表示します。\n",
        "\n",
        "詳しくは[このNotebook](https://colab.research.google.com/notebooks/forms.ipynb)を参照してください。"
      ],
      "metadata": {
        "id": "wGju_S06vmRz"
      }
    },
    {
      "cell_type": "code",
      "source": [
        "#@title　ファイル読み込み\n",
        "\n",
        "#@markdown 読み込むファイルのファイル名\n",
        "file_name = 'normal.csv' #@param {type:\"string\"}\n",
        "\n",
        "emg = np.loadtxt(file_name, delimiter=',', skiprows=13, usecols=1, encoding='shift_jis')\n",
        "t = np.arange(len(emg)) / FS\n",
        "print('時刻', t)\n",
        "print('筋電位', emg)"
      ],
      "metadata": {
        "id": "u9aBl0AVOc7W"
      },
      "execution_count": null,
      "outputs": []
    },
    {
      "cell_type": "markdown",
      "source": [
        "### numpyのファイル読み込み機能\n",
        "[numpy.loadtxt](https://numpy.org/doc/stable/reference/generated/numpy.loadtxt.html)でテキストで構成されたデータを読み込みます。\n",
        "引数にはファイル名、データの区切り文字delimiter、読み飛ばす行skiprows、読み込む列usecols、文字コードencodingを指定しています。文字コードについては付録を参照してください。\n",
        "読み込んだデータは[numpy.ndarray](https://numpy.org/doc/stable/reference/generated/numpy.arange.html)という形式の配列で返されます。\n",
        "\n",
        "- delimiterに','（カンマ）を指定してcsv形式のファイルを読み込むことを指示しています。\n",
        "- skiprowsに13を指定して、ファイル冒頭の属性部分を無視させます。\n",
        "- usecolsに1を指定し、TS-MYOには時刻列がないので、筋電位データのみを読み込みます。\n",
        "\n",
        "\n",
        "時刻tはプログラム上で求めています。（時刻はこのプログラムでは使用していませんが…）\n",
        "\n",
        "### その他の関数\n",
        "\n",
        "#### [numpy.arange](https://numpy.org/doc/stable/reference/generated/numpy.arange.html)\n",
        "等差数列の配列(ndarray)を作成します。\n",
        "引数を1だけ指定した場合は、その値未満の0から始まる連番を作成します。\n",
        "\n",
        "#### [len](https://docs.python.org/ja/3/library/functions.html?highlight=len#len)\n",
        "配列の長さ（要素数）を返します。Python本体に含まれる関数（組み込み関数といいます）です。\n",
        "\n",
        "#### [print](https://docs.python.org/ja/3/library/functions.html?highlight=len#print)\n",
        "文字列を出力します。複数の引数を指定すると、スペース区切りで列挙して出力します。\n",
        "Pythonの組み込み関数です。"
      ],
      "metadata": {
        "id": "SKtjPQc-03WQ"
      }
    },
    {
      "cell_type": "code",
      "source": [
        "#@title 時間正規化\n",
        "\n",
        "#@markdown 正規化後のサンプル数\n",
        "resample_number = 500 #@param {type:\"number\"}\n",
        "\n",
        "# リサンプル\n",
        "percent_time = np.arange(resample_number) / (resample_number - 1) * 100 # 正規化後の%Time\n",
        "resampled_emg = signal.resample(emg, resample_number) # 正規化処理\n",
        "\n",
        "np.set_printoptions(threshold=10) # ndarrayの中身が10個以上要素が含まれる場合の表示を省略\n",
        "print('時刻', percent_time)\n",
        "print('筋電位', resampled_emg)"
      ],
      "metadata": {
        "id": "0317JYUxPcIk"
      },
      "execution_count": null,
      "outputs": []
    },
    {
      "cell_type": "markdown",
      "source": [
        "### リサンプル\n",
        "scipyに含まれる信号処理モジュール[signal](https://docs.scipy.org/doc/scipy/reference/signal.html)にその名もずばりの[resample](https://docs.scipy.org/doc/scipy/reference/generated/scipy.signal.resample.html)という関数があります。\n",
        "リサンプルするデータ、リサンプル後のデータ数を指定するだけで正規化してくれます。\n",
        "\n",
        "Excelに比べると非常に簡単です。"
      ],
      "metadata": {
        "id": "mYLTzhZ-5OlX"
      }
    },
    {
      "cell_type": "code",
      "source": [
        "#@title グラフ作成\n",
        "output_notebook() # グラフをNotebookに表示する指示\n",
        "TOOLTIPS = [('Time, EMG', '$x, $y')] # グラフ上にマウスカーソルを乗せた時に表示する値のフォーマット\n",
        "p = figure(\n",
        "    title='Normalized EMG',\n",
        "    x_axis_label='%Time',\n",
        "    y_axis_label='EMG [mV]',\n",
        "    tooltips=TOOLTIPS,\n",
        ")\n",
        "p.line(percent_time, resampled_emg)\n",
        "show(p)\n"
      ],
      "metadata": {
        "id": "o6Tva6rEd9Az"
      },
      "execution_count": null,
      "outputs": []
    },
    {
      "cell_type": "markdown",
      "source": [
        "### データの視覚可\n",
        "BokehはWebブラウザ向けにインタラクティブなビジュアライゼーションを作成するためのライブラリです。\n",
        "右側のツールを選択して拡大縮小や保存なので操作ができます。\n",
        "\n",
        "#### [bokeh.io.output_notebook](https://docs.bokeh.org/en/latest/docs/reference/io.html#bokeh.io.output.output_notebook)\n",
        "グラフをNotebookに表示する指示です。ColabでBokehを使用する場合は必ず実行します。\n",
        "\n",
        "#### [bokeh.plotting.figure](https://docs.bokeh.org/en/latest/docs/reference/plotting/figure.html#bokeh.plotting.figure)\n",
        "グラフを全体を表すfigure[オブジェクト](https://ja.wikipedia.org/wiki/%E3%82%AA%E3%83%96%E3%82%B8%E3%82%A7%E3%82%AF%E3%83%88%E6%8C%87%E5%90%91%E3%83%97%E3%83%AD%E3%82%B0%E3%83%A9%E3%83%9F%E3%83%B3%E3%82%B0)を作成します。\n",
        "オブジェクトにはそのオブジェクト自身の属性情報や、\n",
        "オブジェクト自身に対して実行出来る処理（メソッド）が含まれているのが特徴です。\n",
        "このプログラムではグラフのタイトル、縦軸・横軸のラベル、\n",
        "ツールチップ（グラフ上にマウスカーソルを乗せたときの表示）を指示してfigureオブジェクトを作成し、\n",
        "変数pに保存しています。後でpに対して折れ線グラフを描画させています。\n",
        "\n",
        "#### [bokeh.plotting.figure.line](https://docs.bokeh.org/en/latest/docs/reference/plotting/figure.html#bokeh.plotting.figure.line)\n",
        "figureオブジェクトのメソッドで折れ線グラフを描画します。メソッドを実行するにはオブジェクトとメソッド名を\n",
        "「.」（ピリオド）で区切って記述します。メソッドは関数の1種ですので必ず（引数がなくても）引数を\n",
        "表すカッコがつきます。\n",
        "ここでは引数としてx軸のデータ、y軸のデータを渡してグラフを描画しています。\n",
        "他に線の色などの指定もできます。\n",
        "\n",
        "#### [bokeh.io.show](https://docs.bokeh.org/en/latest/docs/reference/io.html#bokeh.io.show)\n",
        "グラフを表示します。このプログラムでは引数に表示する内容としてfigureオブジェクトを指定しています。\n"
      ],
      "metadata": {
        "id": "7_vzZsRi-YzJ"
      }
    },
    {
      "cell_type": "code",
      "source": [
        "#@title　ファイルの保存\n",
        "\n",
        "#@markdown 保存するファイル名\n",
        "file_name = 'resampled.csv' #@param {type:\"string\"}\n",
        "\n",
        "data = np.vstack([percent_time, resampled_emg]).T\n",
        "header = '%Time, EMG'\n",
        "format = '%.5g'\n",
        "\n",
        "np.savetxt(file_name, data, fmt=format, delimiter=',', header=header, comments='', encoding='shift_jis')\n",
        "\n",
        "print('saved')"
      ],
      "metadata": {
        "id": "Xp63NuRzQPRz"
      },
      "execution_count": null,
      "outputs": []
    },
    {
      "cell_type": "markdown",
      "source": [
        "#### [numpy.vstack](https://numpy.org/doc/stable/reference/generated/numpy.vstack.html)\n",
        "ndarrayを縦に積み上げたndarrayを返します。\n",
        "\n",
        "これまでこのプログラムで扱ってきたデータは1行のデータでした。\n",
        "データの保存にあたり、csv形式にふさわしい形に整形する必要があります。\n",
        "この関数で時刻と筋電位データを1つにまとめて2行のデータにしています。\n",
        "\n",
        "#### [numpy.ndarray.T](https://numpy.org/doc/stable/reference/generated/numpy.ndarray.T.html)\n",
        "転置行列（行と列を入れ方行列）を返します。\n",
        "\n",
        "vstackで２行のデータにしましたが、通常は2列のデータにするために、行と列を入れ替えます。\n",
        "ここのプログラムの記述のように、np.vstack()の結果はndarrayオブジェクトなので、\n",
        "そのままピリオドで連結してメソッド等を呼び出す事ができます。\n",
        "\n",
        "#### [numpy.savetxt](https://numpy.org/doc/stable/reference/generated/numpy.savetxt.html)\n",
        "テキストファイルにndarrayを保存します。\n",
        "\n",
        "引数にファイル名、データが格納されたndarray、続いてオブションを指定します。\n",
        "ここではオプションに書式として有効数字5桁、データ区切り文字にカンマ、先頭行に%Time、EMGという見出し、\n",
        "コメント文字列に空文字列、文字コードにShift JISを指定しています。文字コードについては付録を参照してください。\n",
        "\n",
        "commentsに空文字を指定しているのはデフォルトで'# 'となっていて、headerにも'# 'が含まれてしまい、\n",
        "Excelで開いたときに１つのセルにheaderで指定した文字列が入ってしまうためです。"
      ],
      "metadata": {
        "id": "AHu9gbXJFftO"
      }
    },
    {
      "cell_type": "markdown",
      "source": [
        "### 結果のダウンロード\n",
        "画面左側の上部にあるフォルダのアイコンクリックして、ファイル一覧を表示します。\n",
        "「保存するファイル名」で指定したファイルを右クリックしてダウンロードしてください。\n",
        "必要に応じてExcel等で開いて内容を確認してみてください。\n",
        "\n",
        "## おわりに\n",
        "初めてプログラミングに触れた方は用語など、分かりにくい部分があったと思います。このあたりは慣れになれますので、いろいろな記事を読むなどして身につけて行くしかないと思います。\n",
        "\n",
        "プログラムは理論的なものですので、よく考えて組み立てれば、誰でもできるパズルの様なものです。\n",
        "また、プログラムは作るものですが、物理的なモノと違い、いくらでも「作ってみる」ことができます。\n",
        "\n",
        "またネット上にも沢山の情報がありますので、ひとつひとつ調べては作ってみてを繰り返すことで上達します。\n",
        "コツコツと続けて頂けたらと思います。\n"
      ],
      "metadata": {
        "id": "ccmFXc-3FlVd"
      }
    },
    {
      "cell_type": "markdown",
      "source": [
        "# 付録\n",
        "\n",
        "## 参考\n",
        "- https://www.python.jp/ Pythonの日本語情報サイト。入門講座などもあります。\n",
        "- https://deepl.com/ 翻訳ツールサイト。Google翻訳よりも自然な翻訳をしてくれます。\n",
        "\n",
        "## 文字コード\n",
        "いわゆる文字はコンピュータにとって記号であって、文字そのものは意味も何もありません。\n",
        "文字コードとは、コンピュータで文字を扱う上で、記号としての文字を識別するためにつけられた番号です。\n",
        "\n",
        "コンピュータはアメリカで誕生し、育ってきたため文字の扱いもごく限られていました。\n",
        "日本や中国を初めとしたアジア諸国には沢山の文字がありますので、これらを扱うためには工夫が必要でした。\n",
        "日本で普及したコンピュータはマイクロソフトのOSで動いていて、そこで利用されていた文字コードがShift JISです。\n",
        "文字コードには幾つかありますが、現代的なプログラムではUTF-8という文字コードを使うのが\n",
        "一般的になりつつあります。\n",
        "UTF-８は国際的な取り決めで作られた文字コードなので英語や日本語はもちろん、\n",
        "世界中の文字を扱うことができます。\n",
        "しかし、詳細は省きますがUTF-8にはBOM付きとBOM無しの2種類があります。\n",
        "最近のExcelなどのマイクロソフトのソフトウェアはBOM付きのUTF-8しか扱えないので、\n",
        "未だにプログラムではShift JISを指定した無難な作りをする必要があります。\n",
        "TS-MYOも出力データの文字コードにShift JISとUTF-8を指定できますが、\n",
        "このUTF-8はBOM無しなのでExcelで開くと文字化けします。\n",
        "\n",
        "Pythonのデフォルトの文字コードはUTF-8なので、いつか文字コードを気にせずにコードを書けるようになるといいですね。\n"
      ],
      "metadata": {
        "id": "nYyx-y-wKkpk"
      }
    }
  ]
}